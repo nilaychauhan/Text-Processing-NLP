{
 "cells": [
  {
   "cell_type": "markdown",
   "metadata": {},
   "source": [
    "# Text Processing\n",
    "\n",
    "## Capturing Text Data\n",
    "\n",
    "### Plain Text"
   ]
  },
  {
   "cell_type": "code",
   "execution_count": 1,
   "metadata": {},
   "outputs": [
    {
     "name": "stdout",
     "output_type": "stream",
     "text": [
      "Hieroglyphic writing dates from c. 3000 BC, and is composed of hundreds of symbols. A hieroglyph can represent a word, a sound, or a silent determinative; and the same symbol can serve different purposes in different contexts. Hieroglyphs were a formal script, used on stone monuments and in tombs, that could be as detailed as individual works of art.\n",
      "\n"
     ]
    }
   ],
   "source": [
    "import os\n",
    "\n",
    "# Read in a plain text file\n",
    "with open(os.path.join(\"data\", \"hieroglyph.txt\"), \"r\") as f:\n",
    "    text = f.read()\n",
    "    print(text)"
   ]
  },
  {
   "cell_type": "markdown",
   "metadata": {},
   "source": [
    "### Tabular Data"
   ]
  },
  {
   "cell_type": "code",
   "execution_count": 2,
   "metadata": {
    "scrolled": true
   },
   "outputs": [
    {
     "data": {
      "text/html": [
       "<div>\n",
       "<style scoped>\n",
       "    .dataframe tbody tr th:only-of-type {\n",
       "        vertical-align: middle;\n",
       "    }\n",
       "\n",
       "    .dataframe tbody tr th {\n",
       "        vertical-align: top;\n",
       "    }\n",
       "\n",
       "    .dataframe thead th {\n",
       "        text-align: right;\n",
       "    }\n",
       "</style>\n",
       "<table border=\"1\" class=\"dataframe\">\n",
       "  <thead>\n",
       "    <tr style=\"text-align: right;\">\n",
       "      <th></th>\n",
       "      <th>publisher</th>\n",
       "      <th>title</th>\n",
       "    </tr>\n",
       "  </thead>\n",
       "  <tbody>\n",
       "    <tr>\n",
       "      <th>0</th>\n",
       "      <td>Livemint</td>\n",
       "      <td>fed's charles plosser sees high bar for change...</td>\n",
       "    </tr>\n",
       "    <tr>\n",
       "      <th>1</th>\n",
       "      <td>IFA Magazine</td>\n",
       "      <td>us open: stocks fall after fed official hints ...</td>\n",
       "    </tr>\n",
       "    <tr>\n",
       "      <th>2</th>\n",
       "      <td>IFA Magazine</td>\n",
       "      <td>fed risks falling 'behind the curve', charles ...</td>\n",
       "    </tr>\n",
       "    <tr>\n",
       "      <th>3</th>\n",
       "      <td>Moneynews</td>\n",
       "      <td>fed's plosser: nasty weather has curbed job gr...</td>\n",
       "    </tr>\n",
       "    <tr>\n",
       "      <th>4</th>\n",
       "      <td>NASDAQ</td>\n",
       "      <td>plosser: fed may have to accelerate tapering pace</td>\n",
       "    </tr>\n",
       "  </tbody>\n",
       "</table>\n",
       "</div>"
      ],
      "text/plain": [
       "      publisher                                              title\n",
       "0      Livemint  fed's charles plosser sees high bar for change...\n",
       "1  IFA Magazine  us open: stocks fall after fed official hints ...\n",
       "2  IFA Magazine  fed risks falling 'behind the curve', charles ...\n",
       "3     Moneynews  fed's plosser: nasty weather has curbed job gr...\n",
       "4        NASDAQ  plosser: fed may have to accelerate tapering pace"
      ]
     },
     "execution_count": 2,
     "metadata": {},
     "output_type": "execute_result"
    }
   ],
   "source": [
    "import pandas as pd\n",
    "\n",
    "# Extract text column from a dataframe\n",
    "df = pd.read_csv(os.path.join(\"data\", \"news.csv\"))\n",
    "df.head()[['publisher', 'title']]\n",
    "\n",
    "# Convert text column to lowercase\n",
    "df['title'] = df['title'].str.lower()\n",
    "df.head()[['publisher', 'title']]"
   ]
  },
  {
   "cell_type": "markdown",
   "metadata": {},
   "source": [
    "### Online Resource"
   ]
  },
  {
   "cell_type": "code",
   "execution_count": 3,
   "metadata": {
    "scrolled": true
   },
   "outputs": [
    {
     "name": "stdout",
     "output_type": "stream",
     "text": [
      "{\n",
      "    \"success\": {\n",
      "        \"total\": 1\n",
      "    },\n",
      "    \"contents\": {\n",
      "        \"quotes\": [\n",
      "            {\n",
      "                \"quote\": \"I know for sure that what we dwell on is who we become.\",\n",
      "                \"length\": \"55\",\n",
      "                \"author\": \"Oprah Winfrey\",\n",
      "                \"tags\": [\n",
      "                    \"dwell\",\n",
      "                    \"inspire\",\n",
      "                    \"motivational\"\n",
      "                ],\n",
      "                \"category\": \"inspire\",\n",
      "                \"language\": \"en\",\n",
      "                \"date\": \"2020-12-31\",\n",
      "                \"permalink\": \"https://theysaidso.com/quote/oprah-winfrey-i-know-for-sure-that-what-we-dwell-on-is-who-we-become\",\n",
      "                \"id\": \"lVOKTTrO7g0OrJjlWaJ2oQeF\",\n",
      "                \"background\": \"https://theysaidso.com/img/qod/qod-inspire.jpg\",\n",
      "                \"title\": \"Inspiring Quote of the day\"\n",
      "            }\n",
      "        ]\n",
      "    },\n",
      "    \"baseurl\": \"https://theysaidso.com\",\n",
      "    \"copyright\": {\n",
      "        \"year\": 2022,\n",
      "        \"url\": \"https://theysaidso.com\"\n",
      "    }\n",
      "}\n",
      "I know for sure that what we dwell on is who we become. \n",
      "-- Oprah Winfrey\n"
     ]
    }
   ],
   "source": [
    "import requests\n",
    "import json\n",
    "\n",
    "# Fetch data from a REST API\n",
    "r = requests.get(\n",
    "    \"https://quotes.rest/qod.json\")\n",
    "res = r.json()\n",
    "print(json.dumps(res, indent=4))\n",
    "\n",
    "# Extract relevant object and field\n",
    "q = res[\"contents\"][\"quotes\"][0]\n",
    "print(q[\"quote\"], \"\\n--\", q[\"author\"])"
   ]
  },
  {
   "cell_type": "markdown",
   "metadata": {},
   "source": [
    "## Cleaning"
   ]
  },
  {
   "cell_type": "code",
   "execution_count": 4,
   "metadata": {
    "scrolled": true
   },
   "outputs": [
    {
     "name": "stdout",
     "output_type": "stream",
     "text": [
      "<html lang=\"en\" op=\"news\"><head><meta name=\"referrer\" content=\"origin\"><meta name=\"viewport\" content=\"width=device-width, initial-scale=1.0\"><link rel=\"stylesheet\" type=\"text/css\" href=\"news.css?6RUTmhnEOrlF5IZtuFJ1\">\n",
      "        <link rel=\"shortcut icon\" href=\"favicon.ico\">\n",
      "          <link rel=\"alternate\" type=\"application/rss+xml\" title=\"RSS\" href=\"rss\">\n",
      "        <title>Hacker News</title></head><body><center><table id=\"hnmain\" border=\"0\" cellpadding=\"0\" cellspacing=\"0\" width=\"85%\" bgcolor=\"#f6f6ef\">\n",
      "        <tr><td bgcolor=\"#ff6600\"><table border=\"0\" cellpadding=\"0\" cellspacing=\"0\" width=\"100%\" style=\"padding:2px\"><tr><td style=\"width:18px;padding-right:4px\"><a href=\"https://news.ycombinator.com\"><img src=\"y18.gif\" width=\"18\" height=\"18\" style=\"border:1px white solid;\"></a></td>\n",
      "                  <td style=\"line-height:12pt; height:10px;\"><span class=\"pagetop\"><b class=\"hnname\"><a href=\"news\">Hacker News</a></b>\n",
      "              <a href=\"newest\">new</a> | <a href=\"front\">past</a> | <a href=\"newcomments\">comments</a> | <a href=\"ask\">ask</a> | <a href=\"show\">show</a> | <a href=\"jobs\">jobs</a> | <a href=\"submit\">submit</a>            </span></td><td style=\"text-align:right;padding-right:4px;\"><span class=\"pagetop\">\n",
      "                              <a href=\"login?goto=news\">login</a>\n",
      "                          </span></td>\n",
      "              </tr></table></td></tr>\n",
      "<tr id=\"pagespace\" title=\"\" style=\"height:10px\"></tr><tr><td><table border=\"0\" cellpadding=\"0\" cellspacing=\"0\" class=\"itemlist\">\n",
      "              <tr class='athing' id='25590079'>\n",
      "      <td align=\"right\" valign=\"top\" class=\"title\"><span class=\"rank\">1.</span></td>      <td valign=\"top\" class=\"votelinks\"><center><a id='up_25590079' href='vote?id=25590079&amp;how=up&amp;goto=news'><div class='votearrow' title='upvote'></div></a></center></td><td class=\"title\"><a href=\"https://madaidans-insecurities.github.io/guides/linux-hardening.html\" class=\"storylink\">Linux Hardening Guide</a><span class=\"sitebit comhead\"> (<a href=\"from?site=madaidans-insecurities.github.io\"><span class=\"sitestr\">madaidans-insecurities.github.io</span></a>)</span></td></tr><tr><td colspan=\"2\"></td><td class=\"subtext\">\n",
      "        <span class=\"score\" id=\"score_25590079\">139 points</span> by <a href=\"user?id=FlyMoreRockets\" class=\"hnuser\">FlyMoreRockets</a> <span class=\"age\"><a href=\"item?id=25590079\">3 hours ago</a></span> <span id=\"unv_25590079\"></span> | <a href=\"hide?id=25590079&amp;goto=news\">hide</a> | <a href=\"item?id=25590079\">59&nbsp;comments</a>              </td></tr>\n",
      "      <tr class=\"spacer\" style=\"height:5px\"></tr>\n",
      "                <tr class='athing' id='25588898'>\n",
      "      <td align=\"right\" valign=\"top\" class=\"title\"><span class=\"rank\">2.</span></td>      <td valign=\"top\" class=\"votelinks\"><center><a id='up_25588898' href='vote?id=25588898&amp;how=up&amp;goto=news'><div class='votearrow' title='upvote'></div></a></center></td><td class=\"title\"><a href=\"https://github.com/nsriram/lambda-the-terraform-way\" class=\"storylink\">AWS Lambda Terraform Cookbook with working examples</a><span class=\"sitebit comhead\"> (<a href=\"from?site=github.com/nsriram\"><span class=\"sitestr\">github.com/nsriram</span></a>)</span></td></tr><tr><td colspan=\"2\"></td><td class=\"subtext\">\n",
      "        <span class=\"score\" id=\"score_25588898\">188 points</span> by <a href=\"user?id=sriram_iyengar\" class=\"hnuser\">sriram_iyengar</a> <span class=\"age\"><a href=\"item?id=25588898\">6 hours ago</a></span> <span id=\"unv_25588898\"></span> | <a href=\"hide?id=25588898&amp;goto=news\">hide</a> | <a href=\"item?id=25588898\">36&nbsp;comments</a>              </td></tr>\n",
      "      <tr class=\"spacer\" style=\"height:5px\"></tr>\n",
      "                <tr class='athing' id='25589619'>\n",
      "      <td align=\"right\" valign=\"top\" class=\"title\"><span class=\"rank\">3.</span></td>      <td valign=\"top\" class=\"votelinks\"><center><a id='up_25589619' href='vote?id=25589619&amp;how=up&amp;goto=news'><div class='votearrow' title='upvote'></div></a></center></td><td class=\"title\"><a href=\"https://philipkiely.com/assets/files/WfSD_Bonus_Interview_-_Donald_Knuth.pdf\" class=\"storylink\">Interview Transcript – Donald Knuth [pdf]</a><span class=\"sitebit comhead\"> (<a href=\"from?site=philipkiely.com\"><span class=\"sitestr\">philipkiely.com</span></a>)</span></td></tr><tr><td colspan=\"2\"></td><td class=\"subtext\">\n",
      "        <span class=\"score\" id=\"score_25589619\">105 points</span> by <a href=\"user?id=asicsp\" class=\"hnuser\">asicsp</a> <span class=\"age\"><a href=\"item?id=25589619\">4 hours ago</a></span> <span id=\"unv_25589619\"></span> | <a href=\"hide?id=25589619&amp;goto=news\">hide</a> | <a href=\"item?id=25589619\">18&nbsp;comments</a>              </td></tr>\n",
      "      <tr class=\"spacer\" style=\"height:5px\"></tr>\n",
      "                <tr class='athing' id='25586861'>\n",
      "      <td align=\"right\" valign=\"top\" class=\"title\"><span class=\"rank\">4.</span></td>      <td valign=\"top\" class=\"votelinks\"><center><a id='up_25586861' href='vote?id=25586861&amp;how=up&amp;goto=news'><div class='votearrow' title='upvote'></div></a></center></td><td class=\"title\"><a href=\"https://www.polishnews.co.uk/poznan-the-clams-filter-the-water-they-check-whether-the-water-is-polluted-or-clean/\" class=\"storylink\">Clams filter the water and check whether the water is polluted or clean</a><span class=\"sitebit comhead\"> (<a href=\"from?site=polishnews.co.uk\"><span class=\"sitestr\">polishnews.co.uk</span></a>)</span></td></tr><tr><td colspan=\"2\"></td><td class=\"subtext\">\n",
      "        <span class=\"score\" id=\"score_25586861\">246 points</span> by <a href=\"user?id=ta988\" class=\"hnuser\">ta988</a> <span class=\"age\"><a href=\"item?id=25586861\">11 hours ago</a></span> <span id=\"unv_25586861\"></span> | <a href=\"hide?id=25586861&amp;goto=news\">hide</a> | <a href=\"item?id=25586861\">57&nbsp;comments</a>              </td></tr>\n",
      "      <tr class=\"spacer\" style=\"height:5px\"></tr>\n",
      "                <tr class='athing' id='25590846'>\n",
      "      <td align=\"right\" valign=\"top\" class=\"title\"><span class=\"rank\">5.</span></td>      <td valign=\"top\" class=\"votelinks\"><center><a id='up_25590846' href='vote?id=25590846&amp;how=up&amp;goto=news'><div class='votearrow' title='upvote'></div></a></center></td><td class=\"title\"><a href=\"https://whyjirasucks.com/\" class=\"storylink\" rel=\"nofollow\">Why Jira Sucks</a><span class=\"sitebit comhead\"> (<a href=\"from?site=whyjirasucks.com\"><span class=\"sitestr\">whyjirasucks.com</span></a>)</span></td></tr><tr><td colspan=\"2\"></td><td class=\"subtext\">\n",
      "        <span class=\"score\" id=\"score_25590846\">14 points</span> by <a href=\"user?id=svikashk\" class=\"hnuser\">svikashk</a> <span class=\"age\"><a href=\"item?id=25590846\">34 minutes ago</a></span> <span id=\"unv_25590846\"></span> | <a href=\"hide?id=25590846&amp;goto=news\">hide</a> | <a href=\"item?id=25590846\">10&nbsp;comments</a>              </td></tr>\n",
      "      <tr class=\"spacer\" style=\"height:5px\"></tr>\n",
      "                <tr class='athing' id='25588712'>\n",
      "      <td align=\"right\" valign=\"top\" class=\"title\"><span class=\"rank\">6.</span></td>      <td valign=\"top\" class=\"votelinks\"><center><a id='up_25588712' href='vote?id=25588712&amp;how=up&amp;goto=news'><div class='votearrow' title='upvote'></div></a></center></td><td class=\"title\"><a href=\"https://github.com/LibrePhotos/librephotos\" class=\"storylink\">LibrePhotos: A Self-Hosted Google Photos Alternative</a><span class=\"sitebit comhead\"> (<a href=\"from?site=github.com/librephotos\"><span class=\"sitestr\">github.com/librephotos</span></a>)</span></td></tr><tr><td colspan=\"2\"></td><td class=\"subtext\">\n",
      "        <span class=\"score\" id=\"score_25588712\">101 points</span> by <a href=\"user?id=hanklazard\" class=\"hnuser\">hanklazard</a> <span class=\"age\"><a href=\"item?id=25588712\">7 hours ago</a></span> <span id=\"unv_25588712\"></span> | <a href=\"hide?id=25588712&amp;goto=news\">hide</a> | <a href=\"item?id=25588712\">21&nbsp;comments</a>              </td></tr>\n",
      "      <tr class=\"spacer\" style=\"height:5px\"></tr>\n",
      "                <tr class='athing' id='25586063'>\n",
      "      <td align=\"right\" valign=\"top\" class=\"title\"><span class=\"rank\">7.</span></td>      <td valign=\"top\" class=\"votelinks\"><center><a id='up_25586063' href='vote?id=25586063&amp;how=up&amp;goto=news'><div class='votearrow' title='upvote'></div></a></center></td><td class=\"title\"><a href=\"https://amypeniston.com/ditching-excel-for-python/\" class=\"storylink\">Ditching Excel for Python in a legacy industry</a><span class=\"sitebit comhead\"> (<a href=\"from?site=amypeniston.com\"><span class=\"sitestr\">amypeniston.com</span></a>)</span></td></tr><tr><td colspan=\"2\"></td><td class=\"subtext\">\n",
      "        <span class=\"score\" id=\"score_25586063\">211 points</span> by <a href=\"user?id=afkmango\" class=\"hnuser\">afkmango</a> <span class=\"age\"><a href=\"item?id=25586063\">12 hours ago</a></span> <span id=\"unv_25586063\"></span> | <a href=\"hide?id=25586063&amp;goto=news\">hide</a> | <a href=\"item?id=25586063\">166&nbsp;comments</a>              </td></tr>\n",
      "      <tr class=\"spacer\" style=\"height:5px\"></tr>\n",
      "                <tr class='athing' id='25584720'>\n",
      "      <td align=\"right\" valign=\"top\" class=\"title\"><span class=\"rank\">8.</span></td>      <td valign=\"top\" class=\"votelinks\"><center><a id='up_25584720' href='vote?id=25584720&amp;how=up&amp;goto=news'><div class='votearrow' title='upvote'></div></a></center></td><td class=\"title\"><a href=\"https://github.blog/2020-12-21-how-we-built-the-github-globe/\" class=\"storylink\">How We Built the GitHub Globe</a><span class=\"sitebit comhead\"> (<a href=\"from?site=github.blog\"><span class=\"sitestr\">github.blog</span></a>)</span></td></tr><tr><td colspan=\"2\"></td><td class=\"subtext\">\n",
      "        <span class=\"score\" id=\"score_25584720\">313 points</span> by <a href=\"user?id=scalableUnicon\" class=\"hnuser\">scalableUnicon</a> <span class=\"age\"><a href=\"item?id=25584720\">14 hours ago</a></span> <span id=\"unv_25584720\"></span> | <a href=\"hide?id=25584720&amp;goto=news\">hide</a> | <a href=\"item?id=25584720\">88&nbsp;comments</a>              </td></tr>\n",
      "      <tr class=\"spacer\" style=\"height:5px\"></tr>\n",
      "                <tr class='athing' id='25589177'>\n",
      "      <td align=\"right\" valign=\"top\" class=\"title\"><span class=\"rank\">9.</span></td>      <td valign=\"top\" class=\"votelinks\"><center><a id='up_25589177' href='vote?id=25589177&amp;how=up&amp;goto=news'><div class='votearrow' title='upvote'></div></a></center></td><td class=\"title\"><a href=\"https://bugzilla.mozilla.org/show_bug.cgi?id=1682593\" class=\"storylink\">Firefox not planning on supporting PWA</a><span class=\"sitebit comhead\"> (<a href=\"from?site=bugzilla.mozilla.org\"><span class=\"sitestr\">bugzilla.mozilla.org</span></a>)</span></td></tr><tr><td colspan=\"2\"></td><td class=\"subtext\">\n",
      "        <span class=\"score\" id=\"score_25589177\">64 points</span> by <a href=\"user?id=thayne\" class=\"hnuser\">thayne</a> <span class=\"age\"><a href=\"item?id=25589177\">6 hours ago</a></span> <span id=\"unv_25589177\"></span> | <a href=\"hide?id=25589177&amp;goto=news\">hide</a> | <a href=\"item?id=25589177\">34&nbsp;comments</a>              </td></tr>\n",
      "      <tr class=\"spacer\" style=\"height:5px\"></tr>\n",
      "                <tr class='athing' id='25586565'>\n",
      "      <td align=\"right\" valign=\"top\" class=\"title\"><span class=\"rank\">10.</span></td>      <td valign=\"top\" class=\"votelinks\"><center><a id='up_25586565' href='vote?id=25586565&amp;how=up&amp;goto=news'><div class='votearrow' title='upvote'></div></a></center></td><td class=\"title\"><a href=\"https://qiskit.org/textbook/preface.html\" class=\"storylink\">Learn Quantum Computation</a><span class=\"sitebit comhead\"> (<a href=\"from?site=qiskit.org\"><span class=\"sitestr\">qiskit.org</span></a>)</span></td></tr><tr><td colspan=\"2\"></td><td class=\"subtext\">\n",
      "        <span class=\"score\" id=\"score_25586565\">144 points</span> by <a href=\"user?id=headalgorithm\" class=\"hnuser\">headalgorithm</a> <span class=\"age\"><a href=\"item?id=25586565\">11 hours ago</a></span> <span id=\"unv_25586565\"></span> | <a href=\"hide?id=25586565&amp;goto=news\">hide</a> | <a href=\"item?id=25586565\">48&nbsp;comments</a>              </td></tr>\n",
      "      <tr class=\"spacer\" style=\"height:5px\"></tr>\n",
      "                <tr class='athing' id='25588888'>\n",
      "      <td align=\"right\" valign=\"top\" class=\"title\"><span class=\"rank\">11.</span></td>      <td valign=\"top\" class=\"votelinks\"><center><a id='up_25588888' href='vote?id=25588888&amp;how=up&amp;goto=news'><div class='votearrow' title='upvote'></div></a></center></td><td class=\"title\"><a href=\"http://backreaction.blogspot.com/2020/12/well-actually-10-physics-answers.html\" class=\"storylink\">Well, Actually – Physics Answers</a><span class=\"sitebit comhead\"> (<a href=\"from?site=backreaction.blogspot.com\"><span class=\"sitestr\">backreaction.blogspot.com</span></a>)</span></td></tr><tr><td colspan=\"2\"></td><td class=\"subtext\">\n",
      "        <span class=\"score\" id=\"score_25588888\">75 points</span> by <a href=\"user?id=mellosouls\" class=\"hnuser\">mellosouls</a> <span class=\"age\"><a href=\"item?id=25588888\">6 hours ago</a></span> <span id=\"unv_25588888\"></span> | <a href=\"hide?id=25588888&amp;goto=news\">hide</a> | <a href=\"item?id=25588888\">37&nbsp;comments</a>              </td></tr>\n",
      "      <tr class=\"spacer\" style=\"height:5px\"></tr>\n",
      "                <tr class='athing' id='25588675'>\n",
      "      <td align=\"right\" valign=\"top\" class=\"title\"><span class=\"rank\">12.</span></td>      <td valign=\"top\" class=\"votelinks\"><center><a id='up_25588675' href='vote?id=25588675&amp;how=up&amp;goto=news'><div class='votearrow' title='upvote'></div></a></center></td><td class=\"title\"><a href=\"https://ofir.io/shortformer.pdf\" class=\"storylink\">Shortformer: Better Language Modeling using Shorter Inputs [pdf]</a><span class=\"sitebit comhead\"> (<a href=\"from?site=ofir.io\"><span class=\"sitestr\">ofir.io</span></a>)</span></td></tr><tr><td colspan=\"2\"></td><td class=\"subtext\">\n",
      "        <span class=\"score\" id=\"score_25588675\">50 points</span> by <a href=\"user?id=blast\" class=\"hnuser\">blast</a> <span class=\"age\"><a href=\"item?id=25588675\">7 hours ago</a></span> <span id=\"unv_25588675\"></span> | <a href=\"hide?id=25588675&amp;goto=news\">hide</a> | <a href=\"item?id=25588675\">4&nbsp;comments</a>              </td></tr>\n",
      "      <tr class=\"spacer\" style=\"height:5px\"></tr>\n",
      "                <tr class='athing' id='25586703'>\n",
      "      <td align=\"right\" valign=\"top\" class=\"title\"><span class=\"rank\">13.</span></td>      <td valign=\"top\" class=\"votelinks\"><center><a id='up_25586703' href='vote?id=25586703&amp;how=up&amp;goto=news'><div class='votearrow' title='upvote'></div></a></center></td><td class=\"title\"><a href=\"https://thereformedbroker.com/2020/12/30/talk-less-listen-more/\" class=\"storylink\">Talk Less, Listen More</a><span class=\"sitebit comhead\"> (<a href=\"from?site=thereformedbroker.com\"><span class=\"sitestr\">thereformedbroker.com</span></a>)</span></td></tr><tr><td colspan=\"2\"></td><td class=\"subtext\">\n",
      "        <span class=\"score\" id=\"score_25586703\">93 points</span> by <a href=\"user?id=paulpauper\" class=\"hnuser\">paulpauper</a> <span class=\"age\"><a href=\"item?id=25586703\">11 hours ago</a></span> <span id=\"unv_25586703\"></span> | <a href=\"hide?id=25586703&amp;goto=news\">hide</a> | <a href=\"item?id=25586703\">24&nbsp;comments</a>              </td></tr>\n",
      "      <tr class=\"spacer\" style=\"height:5px\"></tr>\n",
      "                <tr class='athing' id='25582187'>\n",
      "      <td align=\"right\" valign=\"top\" class=\"title\"><span class=\"rank\">14.</span></td>      <td valign=\"top\" class=\"votelinks\"><center><a id='up_25582187' href='vote?id=25582187&amp;how=up&amp;goto=news'><div class='votearrow' title='upvote'></div></a></center></td><td class=\"title\"><a href=\"https://psxparty.kosmi.io/?ref=hn1\" class=\"storylink\">Show HN: PSX Party – Online Multiplayer Playstation 1 Emulator Using WebRTC</a><span class=\"sitebit comhead\"> (<a href=\"from?site=kosmi.io\"><span class=\"sitestr\">kosmi.io</span></a>)</span></td></tr><tr><td colspan=\"2\"></td><td class=\"subtext\">\n",
      "        <span class=\"score\" id=\"score_25582187\">611 points</span> by <a href=\"user?id=hauxir\" class=\"hnuser\">hauxir</a> <span class=\"age\"><a href=\"item?id=25582187\">18 hours ago</a></span> <span id=\"unv_25582187\"></span> | <a href=\"hide?id=25582187&amp;goto=news\">hide</a> | <a href=\"item?id=25582187\">150&nbsp;comments</a>              </td></tr>\n",
      "      <tr class=\"spacer\" style=\"height:5px\"></tr>\n",
      "                <tr class='athing' id='25587765'>\n",
      "      <td align=\"right\" valign=\"top\" class=\"title\"><span class=\"rank\">15.</span></td>      <td valign=\"top\" class=\"votelinks\"><center><a id='up_25587765' href='vote?id=25587765&amp;how=up&amp;goto=news'><div class='votearrow' title='upvote'></div></a></center></td><td class=\"title\"><a href=\"https://twitter.com/larsiusprime/status/1344404336252768257\" class=\"storylink\">HTML5 still doesn't replicate what mattered about Flash</a><span class=\"sitebit comhead\"> (<a href=\"from?site=twitter.com/larsiusprime\"><span class=\"sitestr\">twitter.com/larsiusprime</span></a>)</span></td></tr><tr><td colspan=\"2\"></td><td class=\"subtext\">\n",
      "        <span class=\"score\" id=\"score_25587765\">242 points</span> by <a href=\"user?id=tosh\" class=\"hnuser\">tosh</a> <span class=\"age\"><a href=\"item?id=25587765\">9 hours ago</a></span> <span id=\"unv_25587765\"></span> | <a href=\"hide?id=25587765&amp;goto=news\">hide</a> | <a href=\"item?id=25587765\">218&nbsp;comments</a>              </td></tr>\n",
      "      <tr class=\"spacer\" style=\"height:5px\"></tr>\n",
      "                <tr class='athing' id='25590948'>\n",
      "      <td align=\"right\" valign=\"top\" class=\"title\"><span class=\"rank\">16.</span></td>      <td valign=\"top\" class=\"votelinks\"><center><a id='up_25590948' href='vote?id=25590948&amp;how=up&amp;goto=news'><div class='votearrow' title='upvote'></div></a></center></td><td class=\"title\"><a href=\"https://www.theguardian.com/science/blog/2017/mar/27/bad-language-why-being-bilingual-makes-swearing-easier\" class=\"storylink\" rel=\"nofollow\">Being bilingual makes swearing easier</a><span class=\"sitebit comhead\"> (<a href=\"from?site=theguardian.com\"><span class=\"sitestr\">theguardian.com</span></a>)</span></td></tr><tr><td colspan=\"2\"></td><td class=\"subtext\">\n",
      "        <span class=\"score\" id=\"score_25590948\">3 points</span> by <a href=\"user?id=w-m\" class=\"hnuser\">w-m</a> <span class=\"age\"><a href=\"item?id=25590948\">16 minutes ago</a></span> <span id=\"unv_25590948\"></span> | <a href=\"hide?id=25590948&amp;goto=news\">hide</a> | <a href=\"item?id=25590948\">discuss</a>              </td></tr>\n",
      "      <tr class=\"spacer\" style=\"height:5px\"></tr>\n",
      "                <tr class='athing' id='25584695'>\n",
      "      <td align=\"right\" valign=\"top\" class=\"title\"><span class=\"rank\">17.</span></td>      <td valign=\"top\" class=\"votelinks\"><center><a id='up_25584695' href='vote?id=25584695&amp;how=up&amp;goto=news'><div class='votearrow' title='upvote'></div></a></center></td><td class=\"title\"><a href=\"https://wiki.debian.org/UltimateDebianDatabase\" class=\"storylink\">Ultimate Debian Database</a><span class=\"sitebit comhead\"> (<a href=\"from?site=debian.org\"><span class=\"sitestr\">debian.org</span></a>)</span></td></tr><tr><td colspan=\"2\"></td><td class=\"subtext\">\n",
      "        <span class=\"score\" id=\"score_25584695\">77 points</span> by <a href=\"user?id=susam\" class=\"hnuser\">susam</a> <span class=\"age\"><a href=\"item?id=25584695\">14 hours ago</a></span> <span id=\"unv_25584695\"></span> | <a href=\"hide?id=25584695&amp;goto=news\">hide</a> | <a href=\"item?id=25584695\">7&nbsp;comments</a>              </td></tr>\n",
      "      <tr class=\"spacer\" style=\"height:5px\"></tr>\n",
      "                <tr class='athing' id='25582746'>\n",
      "      <td align=\"right\" valign=\"top\" class=\"title\"><span class=\"rank\">18.</span></td>      <td valign=\"top\" class=\"votelinks\"><center><a id='up_25582746' href='vote?id=25582746&amp;how=up&amp;goto=news'><div class='votearrow' title='upvote'></div></a></center></td><td class=\"title\"><a href=\"https://discourse.haskell.org/t/glasgow-haskell-compiler-9-0-1-rc1-now-available/1706\" class=\"storylink\">GHC 9.0, supporting linear types</a><span class=\"sitebit comhead\"> (<a href=\"from?site=haskell.org\"><span class=\"sitestr\">haskell.org</span></a>)</span></td></tr><tr><td colspan=\"2\"></td><td class=\"subtext\">\n",
      "        <span class=\"score\" id=\"score_25582746\">275 points</span> by <a href=\"user?id=cosmic_quanta\" class=\"hnuser\">cosmic_quanta</a> <span class=\"age\"><a href=\"item?id=25582746\">17 hours ago</a></span> <span id=\"unv_25582746\"></span> | <a href=\"hide?id=25582746&amp;goto=news\">hide</a> | <a href=\"item?id=25582746\">97&nbsp;comments</a>              </td></tr>\n",
      "      <tr class=\"spacer\" style=\"height:5px\"></tr>\n",
      "                <tr class='athing' id='25579236'>\n",
      "      <td align=\"right\" valign=\"top\" class=\"title\"><span class=\"rank\">19.</span></td>      <td valign=\"top\" class=\"votelinks\"><center><a id='up_25579236' href='vote?id=25579236&amp;how=up&amp;goto=news'><div class='votearrow' title='upvote'></div></a></center></td><td class=\"title\"><a href=\"http://www.sbcl.org/all-news.html#2.1.0\" class=\"storylink\">SBCL: New in Version 2.1.0</a><span class=\"sitebit comhead\"> (<a href=\"from?site=sbcl.org\"><span class=\"sitestr\">sbcl.org</span></a>)</span></td></tr><tr><td colspan=\"2\"></td><td class=\"subtext\">\n",
      "        <span class=\"score\" id=\"score_25579236\">150 points</span> by <a href=\"user?id=susam\" class=\"hnuser\">susam</a> <span class=\"age\"><a href=\"item?id=25579236\">1 day ago</a></span> <span id=\"unv_25579236\"></span> | <a href=\"hide?id=25579236&amp;goto=news\">hide</a> | <a href=\"item?id=25579236\">48&nbsp;comments</a>              </td></tr>\n",
      "      <tr class=\"spacer\" style=\"height:5px\"></tr>\n",
      "                <tr class='athing' id='25581064'>\n",
      "      <td align=\"right\" valign=\"top\" class=\"title\"><span class=\"rank\">20.</span></td>      <td valign=\"top\" class=\"votelinks\"><center><a id='up_25581064' href='vote?id=25581064&amp;how=up&amp;goto=news'><div class='votearrow' title='upvote'></div></a></center></td><td class=\"title\"><a href=\"https://www.hu-berlin.de/en/press-portal/nachrichten-en/december-2020/nr-201221\" class=\"storylink\">Emotional headlines have an impact regardless of the credibility of the source</a><span class=\"sitebit comhead\"> (<a href=\"from?site=hu-berlin.de\"><span class=\"sitestr\">hu-berlin.de</span></a>)</span></td></tr><tr><td colspan=\"2\"></td><td class=\"subtext\">\n",
      "        <span class=\"score\" id=\"score_25581064\">207 points</span> by <a href=\"user?id=rustoo\" class=\"hnuser\">rustoo</a> <span class=\"age\"><a href=\"item?id=25581064\">20 hours ago</a></span> <span id=\"unv_25581064\"></span> | <a href=\"hide?id=25581064&amp;goto=news\">hide</a> | <a href=\"item?id=25581064\">74&nbsp;comments</a>              </td></tr>\n",
      "      <tr class=\"spacer\" style=\"height:5px\"></tr>\n",
      "                <tr class='athing' id='25586220'>\n",
      "      <td align=\"right\" valign=\"top\" class=\"title\"><span class=\"rank\">21.</span></td>      <td valign=\"top\" class=\"votelinks\"><center><a id='up_25586220' href='vote?id=25586220&amp;how=up&amp;goto=news'><div class='votearrow' title='upvote'></div></a></center></td><td class=\"title\"><a href=\"https://www.windowslatest.com/2020/12/27/adobe-flash-player-is-about-to-stop-working-on-windows-10/\" class=\"storylink\">Flash Player is about to stop working on Windows 10</a><span class=\"sitebit comhead\"> (<a href=\"from?site=windowslatest.com\"><span class=\"sitestr\">windowslatest.com</span></a>)</span></td></tr><tr><td colspan=\"2\"></td><td class=\"subtext\">\n",
      "        <span class=\"score\" id=\"score_25586220\">189 points</span> by <a href=\"user?id=muhahue\" class=\"hnuser\">muhahue</a> <span class=\"age\"><a href=\"item?id=25586220\">12 hours ago</a></span> <span id=\"unv_25586220\"></span> | <a href=\"hide?id=25586220&amp;goto=news\">hide</a> | <a href=\"item?id=25586220\">266&nbsp;comments</a>              </td></tr>\n",
      "      <tr class=\"spacer\" style=\"height:5px\"></tr>\n",
      "                <tr class='athing' id='25582269'>\n",
      "      <td align=\"right\" valign=\"top\" class=\"title\"><span class=\"rank\">22.</span></td>      <td valign=\"top\" class=\"votelinks\"><center><a id='up_25582269' href='vote?id=25582269&amp;how=up&amp;goto=news'><div class='votearrow' title='upvote'></div></a></center></td><td class=\"title\"><a href=\"https://drobinin.com/posts/things-i-learnt-in-2020/\" class=\"storylink\">Things I Learnt in 2020</a><span class=\"sitebit comhead\"> (<a href=\"from?site=drobinin.com\"><span class=\"sitestr\">drobinin.com</span></a>)</span></td></tr><tr><td colspan=\"2\"></td><td class=\"subtext\">\n",
      "        <span class=\"score\" id=\"score_25582269\">183 points</span> by <a href=\"user?id=valzevul\" class=\"hnuser\">valzevul</a> <span class=\"age\"><a href=\"item?id=25582269\">15 hours ago</a></span> <span id=\"unv_25582269\"></span> | <a href=\"hide?id=25582269&amp;goto=news\">hide</a> | <a href=\"item?id=25582269\">42&nbsp;comments</a>              </td></tr>\n",
      "      <tr class=\"spacer\" style=\"height:5px\"></tr>\n",
      "                <tr class='athing' id='25589835'>\n",
      "      <td align=\"right\" valign=\"top\" class=\"title\"><span class=\"rank\">23.</span></td>      <td valign=\"top\" class=\"votelinks\"><center><a id='up_25589835' href='vote?id=25589835&amp;how=up&amp;goto=news'><div class='votearrow' title='upvote'></div></a></center></td><td class=\"title\"><a href=\"https://insideevs.com/news/463589/tesla-service-centers-preventing-delivery-refusals/\" class=\"storylink\">Tesla Service Centers Are Preventing Delivery Refusals in Weird Ways</a><span class=\"sitebit comhead\"> (<a href=\"from?site=insideevs.com\"><span class=\"sitestr\">insideevs.com</span></a>)</span></td></tr><tr><td colspan=\"2\"></td><td class=\"subtext\">\n",
      "        <span class=\"score\" id=\"score_25589835\">98 points</span> by <a href=\"user?id=rmason\" class=\"hnuser\">rmason</a> <span class=\"age\"><a href=\"item?id=25589835\">4 hours ago</a></span> <span id=\"unv_25589835\"></span> | <a href=\"hide?id=25589835&amp;goto=news\">hide</a> | <a href=\"item?id=25589835\">76&nbsp;comments</a>              </td></tr>\n",
      "      <tr class=\"spacer\" style=\"height:5px\"></tr>\n",
      "                <tr class='athing' id='25587343'>\n",
      "      <td align=\"right\" valign=\"top\" class=\"title\"><span class=\"rank\">24.</span></td>      <td valign=\"top\" class=\"votelinks\"><center><a id='up_25587343' href='vote?id=25587343&amp;how=up&amp;goto=news'><div class='votearrow' title='upvote'></div></a></center></td><td class=\"title\"><a href=\"https://www.seattletimes.com/seattle-news/transportation/embargoed-uber-raising-its-prices-starting-jan-1/\" class=\"storylink\">Uber will charge significantly more per trip as new Seattle law goes into effect</a><span class=\"sitebit comhead\"> (<a href=\"from?site=seattletimes.com\"><span class=\"sitestr\">seattletimes.com</span></a>)</span></td></tr><tr><td colspan=\"2\"></td><td class=\"subtext\">\n",
      "        <span class=\"score\" id=\"score_25587343\">105 points</span> by <a href=\"user?id=donsupreme\" class=\"hnuser\">donsupreme</a> <span class=\"age\"><a href=\"item?id=25587343\">10 hours ago</a></span> <span id=\"unv_25587343\"></span> | <a href=\"hide?id=25587343&amp;goto=news\">hide</a> | <a href=\"item?id=25587343\">192&nbsp;comments</a>              </td></tr>\n",
      "      <tr class=\"spacer\" style=\"height:5px\"></tr>\n",
      "                <tr class='athing' id='25581313'>\n",
      "      <td align=\"right\" valign=\"top\" class=\"title\"><span class=\"rank\">25.</span></td>      <td valign=\"top\" class=\"votelinks\"><center><a id='up_25581313' href='vote?id=25581313&amp;how=up&amp;goto=news'><div class='votearrow' title='upvote'></div></a></center></td><td class=\"title\"><a href=\"https://tenthousandmeters.com/blog/python-behind-the-scenes-7-how-python-attributes-work/\" class=\"storylink\">How Python attributes work</a><span class=\"sitebit comhead\"> (<a href=\"from?site=tenthousandmeters.com\"><span class=\"sitestr\">tenthousandmeters.com</span></a>)</span></td></tr><tr><td colspan=\"2\"></td><td class=\"subtext\">\n",
      "        <span class=\"score\" id=\"score_25581313\">91 points</span> by <a href=\"user?id=r4victor\" class=\"hnuser\">r4victor</a> <span class=\"age\"><a href=\"item?id=25581313\">13 hours ago</a></span> <span id=\"unv_25581313\"></span> | <a href=\"hide?id=25581313&amp;goto=news\">hide</a> | <a href=\"item?id=25581313\">11&nbsp;comments</a>              </td></tr>\n",
      "      <tr class=\"spacer\" style=\"height:5px\"></tr>\n",
      "                <tr class='athing' id='25586045'>\n",
      "      <td align=\"right\" valign=\"top\" class=\"title\"><span class=\"rank\">26.</span></td>      <td></td><td class=\"title\"><a href=\"https://relationshiphero.com/careers?role=coach\" class=\"storylink\" rel=\"nofollow\">Relationship Hero (YC S17) is hiring relationship coaches – fully remote</a><span class=\"sitebit comhead\"> (<a href=\"from?site=relationshiphero.com\"><span class=\"sitestr\">relationshiphero.com</span></a>)</span></td></tr><tr><td colspan=\"2\"></td><td class=\"subtext\">\n",
      "        <span class=\"age\"><a href=\"item?id=25586045\">12 hours ago</a></span> | <a href=\"hide?id=25586045&amp;goto=news\">hide</a>      </td></tr>\n",
      "      <tr class=\"spacer\" style=\"height:5px\"></tr>\n",
      "                <tr class='athing' id='25587487'>\n",
      "      <td align=\"right\" valign=\"top\" class=\"title\"><span class=\"rank\">27.</span></td>      <td valign=\"top\" class=\"votelinks\"><center><a id='up_25587487' href='vote?id=25587487&amp;how=up&amp;goto=news'><div class='votearrow' title='upvote'></div></a></center></td><td class=\"title\"><a href=\"https://diffgram.com/\" class=\"storylink\">Show HN: Diffgram – Human Supervision of AI Data</a><span class=\"sitebit comhead\"> (<a href=\"from?site=diffgram.com\"><span class=\"sitestr\">diffgram.com</span></a>)</span></td></tr><tr><td colspan=\"2\"></td><td class=\"subtext\">\n",
      "        <span class=\"score\" id=\"score_25587487\">16 points</span> by <a href=\"user?id=anthonysarkis\" class=\"hnuser\">anthonysarkis</a> <span class=\"age\"><a href=\"item?id=25587487\">9 hours ago</a></span> <span id=\"unv_25587487\"></span> | <a href=\"hide?id=25587487&amp;goto=news\">hide</a> | <a href=\"item?id=25587487\">1&nbsp;comment</a>              </td></tr>\n",
      "      <tr class=\"spacer\" style=\"height:5px\"></tr>\n",
      "                <tr class='athing' id='25580637'>\n",
      "      <td align=\"right\" valign=\"top\" class=\"title\"><span class=\"rank\">28.</span></td>      <td valign=\"top\" class=\"votelinks\"><center><a id='up_25580637' href='vote?id=25580637&amp;how=up&amp;goto=news'><div class='votearrow' title='upvote'></div></a></center></td><td class=\"title\"><a href=\"item?id=25580637\" class=\"storylink\">Ask HN: What's a side project you built to make money that hasn't?</a></td></tr><tr><td colspan=\"2\"></td><td class=\"subtext\">\n",
      "        <span class=\"score\" id=\"score_25580637\">336 points</span> by <a href=\"user?id=notoriousarun\" class=\"hnuser\">notoriousarun</a> <span class=\"age\"><a href=\"item?id=25580637\">22 hours ago</a></span> <span id=\"unv_25580637\"></span> | <a href=\"hide?id=25580637&amp;goto=news\">hide</a> | <a href=\"item?id=25580637\">442&nbsp;comments</a>              </td></tr>\n",
      "      <tr class=\"spacer\" style=\"height:5px\"></tr>\n",
      "                <tr class='athing' id='25582962'>\n",
      "      <td align=\"right\" valign=\"top\" class=\"title\"><span class=\"rank\">29.</span></td>      <td valign=\"top\" class=\"votelinks\"><center><a id='up_25582962' href='vote?id=25582962&amp;how=up&amp;goto=news'><div class='votearrow' title='upvote'></div></a></center></td><td class=\"title\"><a href=\"https://richardstartin.github.io/posts/dont-use-protobuf-for-telemetry\" class=\"storylink\">Don't Use Protobuf for Telemetry</a><span class=\"sitebit comhead\"> (<a href=\"from?site=richardstartin.github.io\"><span class=\"sitestr\">richardstartin.github.io</span></a>)</span></td></tr><tr><td colspan=\"2\"></td><td class=\"subtext\">\n",
      "        <span class=\"score\" id=\"score_25582962\">203 points</span> by <a href=\"user?id=simonpure\" class=\"hnuser\">simonpure</a> <span class=\"age\"><a href=\"item?id=25582962\">17 hours ago</a></span> <span id=\"unv_25582962\"></span> | <a href=\"hide?id=25582962&amp;goto=news\">hide</a> | <a href=\"item?id=25582962\">169&nbsp;comments</a>              </td></tr>\n",
      "      <tr class=\"spacer\" style=\"height:5px\"></tr>\n",
      "                <tr class='athing' id='25561534'>\n",
      "      <td align=\"right\" valign=\"top\" class=\"title\"><span class=\"rank\">30.</span></td>      <td valign=\"top\" class=\"votelinks\"><center><a id='up_25561534' href='vote?id=25561534&amp;how=up&amp;goto=news'><div class='votearrow' title='upvote'></div></a></center></td><td class=\"title\"><a href=\"https://www.newstatesman.com/Russian-roulette-life-times-graham-greene-new-biography-richard-review\" class=\"storylink\">Unmasking Graham Greene</a><span class=\"sitebit comhead\"> (<a href=\"from?site=newstatesman.com\"><span class=\"sitestr\">newstatesman.com</span></a>)</span></td></tr><tr><td colspan=\"2\"></td><td class=\"subtext\">\n",
      "        <span class=\"score\" id=\"score_25561534\">53 points</span> by <a href=\"user?id=lermontov\" class=\"hnuser\">lermontov</a> <span class=\"age\"><a href=\"item?id=25561534\">19 hours ago</a></span> <span id=\"unv_25561534\"></span> | <a href=\"hide?id=25561534&amp;goto=news\">hide</a> | <a href=\"item?id=25561534\">23&nbsp;comments</a>              </td></tr>\n",
      "      <tr class=\"spacer\" style=\"height:5px\"></tr>\n",
      "            <tr class=\"morespace\" style=\"height:10px\"></tr><tr><td colspan=\"2\"></td><td class=\"title\"><a href=\"news?p=2\" class=\"morelink\" rel=\"next\">More</a></td></tr>\n",
      "  </table>\n",
      "</td></tr>\n",
      "<tr><td><img src=\"s.gif\" height=\"10\" width=\"0\"><table width=\"100%\" cellspacing=\"0\" cellpadding=\"1\"><tr><td bgcolor=\"#ff6600\"></td></tr></table><br><center><span class=\"yclinks\"><a href=\"newsguidelines.html\">Guidelines</a>\n",
      "        | <a href=\"newsfaq.html\">FAQ</a>\n",
      "        | <a href=\"lists\">Lists</a>\n",
      "        | <a href=\"https://github.com/HackerNews/API\">API</a>\n",
      "        | <a href=\"security.html\">Security</a>\n",
      "        | <a href=\"http://www.ycombinator.com/legal/\">Legal</a>\n",
      "        | <a href=\"http://www.ycombinator.com/apply/\">Apply to YC</a>\n",
      "        | <a href=\"mailto:hn@ycombinator.com\">Contact</a></span><br><br><form method=\"get\" action=\"//hn.algolia.com/\">Search:\n",
      "          <input type=\"text\" name=\"q\" value=\"\" size=\"17\" autocorrect=\"off\" spellcheck=\"false\" autocapitalize=\"off\" autocomplete=\"false\"></form>\n",
      "            </center></td></tr>\n",
      "      </table></center></body><script type='text/javascript' src='hn.js?6RUTmhnEOrlF5IZtuFJ1'></script></html>\n",
      "\n"
     ]
    }
   ],
   "source": [
    "import requests\n",
    "\n",
    "# Fetch a web page\n",
    "r = requests.get(\"https://news.ycombinator.com\")\n",
    "print(r.text)"
   ]
  },
  {
   "cell_type": "code",
   "execution_count": 5,
   "metadata": {},
   "outputs": [
    {
     "name": "stdout",
     "output_type": "stream",
     "text": [
      "\n",
      "        \n",
      "          \n",
      "        Hacker News\n",
      "        \n",
      "                  Hacker News\n",
      "              new | past | comments | ask | show | jobs | submit            \n",
      "                              login\n",
      "                          \n",
      "              \n",
      "\n",
      "              \n",
      "      1.      Linux Hardening Guide (madaidans-insecurities.github.io)\n",
      "        139 points by FlyMoreRockets 3 hours ago  | hide | 59&nbsp;comments              \n",
      "      \n",
      "                \n",
      "      2.      AWS Lambda Terraform Cookbook with working examples (github.com/nsriram)\n",
      "        188 points by sriram_iyengar 6 hours ago  | hide | 36&nbsp;comments              \n",
      "      \n",
      "                \n",
      "      3.      Interview Transcript – Donald Knuth [pdf] (philipkiely.com)\n",
      "        105 points by asicsp 4 hours ago  | hide | 18&nbsp;comments              \n",
      "      \n",
      "                \n",
      "      4.      Clams filter the water and check whether the water is polluted or clean (polishnews.co.uk)\n",
      "        246 points by ta988 11 hours ago  | hide | 57&nbsp;comments              \n",
      "      \n",
      "                \n",
      "      5.      Why Jira Sucks (whyjirasucks.com)\n",
      "        14 points by svikashk 34 minutes ago  | hide | 10&nbsp;comments              \n",
      "      \n",
      "                \n",
      "      6.      LibrePhotos: A Self-Hosted Google Photos Alternative (github.com/librephotos)\n",
      "        101 points by hanklazard 7 hours ago  | hide | 21&nbsp;comments              \n",
      "      \n",
      "                \n",
      "      7.      Ditching Excel for Python in a legacy industry (amypeniston.com)\n",
      "        211 points by afkmango 12 hours ago  | hide | 166&nbsp;comments              \n",
      "      \n",
      "                \n",
      "      8.      How We Built the GitHub Globe (github.blog)\n",
      "        313 points by scalableUnicon 14 hours ago  | hide | 88&nbsp;comments              \n",
      "      \n",
      "                \n",
      "      9.      Firefox not planning on supporting PWA (bugzilla.mozilla.org)\n",
      "        64 points by thayne 6 hours ago  | hide | 34&nbsp;comments              \n",
      "      \n",
      "                \n",
      "      10.      Learn Quantum Computation (qiskit.org)\n",
      "        144 points by headalgorithm 11 hours ago  | hide | 48&nbsp;comments              \n",
      "      \n",
      "                \n",
      "      11.      Well, Actually – Physics Answers (backreaction.blogspot.com)\n",
      "        75 points by mellosouls 6 hours ago  | hide | 37&nbsp;comments              \n",
      "      \n",
      "                \n",
      "      12.      Shortformer: Better Language Modeling using Shorter Inputs [pdf] (ofir.io)\n",
      "        50 points by blast 7 hours ago  | hide | 4&nbsp;comments              \n",
      "      \n",
      "                \n",
      "      13.      Talk Less, Listen More (thereformedbroker.com)\n",
      "        93 points by paulpauper 11 hours ago  | hide | 24&nbsp;comments              \n",
      "      \n",
      "                \n",
      "      14.      Show HN: PSX Party – Online Multiplayer Playstation 1 Emulator Using WebRTC (kosmi.io)\n",
      "        611 points by hauxir 18 hours ago  | hide | 150&nbsp;comments              \n",
      "      \n",
      "                \n",
      "      15.      HTML5 still doesn't replicate what mattered about Flash (twitter.com/larsiusprime)\n",
      "        242 points by tosh 9 hours ago  | hide | 218&nbsp;comments              \n",
      "      \n",
      "                \n",
      "      16.      Being bilingual makes swearing easier (theguardian.com)\n",
      "        3 points by w-m 16 minutes ago  | hide | discuss              \n",
      "      \n",
      "                \n",
      "      17.      Ultimate Debian Database (debian.org)\n",
      "        77 points by susam 14 hours ago  | hide | 7&nbsp;comments              \n",
      "      \n",
      "                \n",
      "      18.      GHC 9.0, supporting linear types (haskell.org)\n",
      "        275 points by cosmic_quanta 17 hours ago  | hide | 97&nbsp;comments              \n",
      "      \n",
      "                \n",
      "      19.      SBCL: New in Version 2.1.0 (sbcl.org)\n",
      "        150 points by susam 1 day ago  | hide | 48&nbsp;comments              \n",
      "      \n",
      "                \n",
      "      20.      Emotional headlines have an impact regardless of the credibility of the source (hu-berlin.de)\n",
      "        207 points by rustoo 20 hours ago  | hide | 74&nbsp;comments              \n",
      "      \n",
      "                \n",
      "      21.      Flash Player is about to stop working on Windows 10 (windowslatest.com)\n",
      "        189 points by muhahue 12 hours ago  | hide | 266&nbsp;comments              \n",
      "      \n",
      "                \n",
      "      22.      Things I Learnt in 2020 (drobinin.com)\n",
      "        183 points by valzevul 15 hours ago  | hide | 42&nbsp;comments              \n",
      "      \n",
      "                \n",
      "      23.      Tesla Service Centers Are Preventing Delivery Refusals in Weird Ways (insideevs.com)\n",
      "        98 points by rmason 4 hours ago  | hide | 76&nbsp;comments              \n",
      "      \n",
      "                \n",
      "      24.      Uber will charge significantly more per trip as new Seattle law goes into effect (seattletimes.com)\n",
      "        105 points by donsupreme 10 hours ago  | hide | 192&nbsp;comments              \n",
      "      \n",
      "                \n",
      "      25.      How Python attributes work (tenthousandmeters.com)\n",
      "        91 points by r4victor 13 hours ago  | hide | 11&nbsp;comments              \n",
      "      \n",
      "                \n",
      "      26.      Relationship Hero (YC S17) is hiring relationship coaches – fully remote (relationshiphero.com)\n",
      "        12 hours ago | hide      \n",
      "      \n",
      "                \n",
      "      27.      Show HN: Diffgram – Human Supervision of AI Data (diffgram.com)\n",
      "        16 points by anthonysarkis 9 hours ago  | hide | 1&nbsp;comment              \n",
      "      \n",
      "                \n",
      "      28.      Ask HN: What's a side project you built to make money that hasn't?\n",
      "        336 points by notoriousarun 22 hours ago  | hide | 442&nbsp;comments              \n",
      "      \n",
      "                \n",
      "      29.      Don't Use Protobuf for Telemetry (richardstartin.github.io)\n",
      "        203 points by simonpure 17 hours ago  | hide | 169&nbsp;comments              \n",
      "      \n",
      "                \n",
      "      30.      Unmasking Graham Greene (newstatesman.com)\n",
      "        53 points by lermontov 19 hours ago  | hide | 23&nbsp;comments              \n",
      "      \n",
      "            More\n",
      "  \n",
      "\n",
      "Guidelines\n",
      "        | FAQ\n",
      "        | Lists\n",
      "        | API\n",
      "        | Security\n",
      "        | Legal\n",
      "        | Apply to YC\n",
      "        | ContactSearch:\n",
      "          \n",
      "            \n",
      "      \n",
      "\n"
     ]
    }
   ],
   "source": [
    "import re\n",
    "\n",
    "# Remove HTML tags using RegEx\n",
    "pattern = re.compile(r'<.*?>')  # tags look like <...>\n",
    "print(pattern.sub('', r.text))  # replace them with blank"
   ]
  },
  {
   "cell_type": "code",
   "execution_count": 6,
   "metadata": {},
   "outputs": [
    {
     "name": "stdout",
     "output_type": "stream",
     "text": [
      "\n",
      "        \n",
      "          \n",
      "        Hacker News\n",
      "        \n",
      "                  Hacker News\n",
      "              new | past | comments | ask | show | jobs | submit            \n",
      "                              login\n",
      "                          \n",
      "              \n",
      "\n",
      "              \n",
      "      1.      Linux Hardening Guide (madaidans-insecurities.github.io)\n",
      "        139 points by FlyMoreRockets 3 hours ago  | hide | 59 comments              \n",
      "      \n",
      "                \n",
      "      2.      AWS Lambda Terraform Cookbook with working examples (github.com/nsriram)\n",
      "        188 points by sriram_iyengar 6 hours ago  | hide | 36 comments              \n",
      "      \n",
      "                \n",
      "      3.      Interview Transcript – Donald Knuth [pdf] (philipkiely.com)\n",
      "        105 points by asicsp 4 hours ago  | hide | 18 comments              \n",
      "      \n",
      "                \n",
      "      4.      Clams filter the water and check whether the water is polluted or clean (polishnews.co.uk)\n",
      "        246 points by ta988 11 hours ago  | hide | 57 comments              \n",
      "      \n",
      "                \n",
      "      5.      Why Jira Sucks (whyjirasucks.com)\n",
      "        14 points by svikashk 34 minutes ago  | hide | 10 comments              \n",
      "      \n",
      "                \n",
      "      6.      LibrePhotos: A Self-Hosted Google Photos Alternative (github.com/librephotos)\n",
      "        101 points by hanklazard 7 hours ago  | hide | 21 comments              \n",
      "      \n",
      "                \n",
      "      7.      Ditching Excel for Python in a legacy industry (amypeniston.com)\n",
      "        211 points by afkmango 12 hours ago  | hide | 166 comments              \n",
      "      \n",
      "                \n",
      "      8.      How We Built the GitHub Globe (github.blog)\n",
      "        313 points by scalableUnicon 14 hours ago  | hide | 88 comments              \n",
      "      \n",
      "                \n",
      "      9.      Firefox not planning on supporting PWA (bugzilla.mozilla.org)\n",
      "        64 points by thayne 6 hours ago  | hide | 34 comments              \n",
      "      \n",
      "                \n",
      "      10.      Learn Quantum Computation (qiskit.org)\n",
      "        144 points by headalgorithm 11 hours ago  | hide | 48 comments              \n",
      "      \n",
      "                \n",
      "      11.      Well, Actually – Physics Answers (backreaction.blogspot.com)\n",
      "        75 points by mellosouls 6 hours ago  | hide | 37 comments              \n",
      "      \n",
      "                \n",
      "      12.      Shortformer: Better Language Modeling using Shorter Inputs [pdf] (ofir.io)\n",
      "        50 points by blast 7 hours ago  | hide | 4 comments              \n",
      "      \n",
      "                \n",
      "      13.      Talk Less, Listen More (thereformedbroker.com)\n",
      "        93 points by paulpauper 11 hours ago  | hide | 24 comments              \n",
      "      \n",
      "                \n",
      "      14.      Show HN: PSX Party – Online Multiplayer Playstation 1 Emulator Using WebRTC (kosmi.io)\n",
      "        611 points by hauxir 18 hours ago  | hide | 150 comments              \n",
      "      \n",
      "                \n",
      "      15.      HTML5 still doesn't replicate what mattered about Flash (twitter.com/larsiusprime)\n",
      "        242 points by tosh 9 hours ago  | hide | 218 comments              \n",
      "      \n",
      "                \n",
      "      16.      Being bilingual makes swearing easier (theguardian.com)\n",
      "        3 points by w-m 16 minutes ago  | hide | discuss              \n",
      "      \n",
      "                \n",
      "      17.      Ultimate Debian Database (debian.org)\n",
      "        77 points by susam 14 hours ago  | hide | 7 comments              \n",
      "      \n",
      "                \n",
      "      18.      GHC 9.0, supporting linear types (haskell.org)\n",
      "        275 points by cosmic_quanta 17 hours ago  | hide | 97 comments              \n",
      "      \n",
      "                \n",
      "      19.      SBCL: New in Version 2.1.0 (sbcl.org)\n",
      "        150 points by susam 1 day ago  | hide | 48 comments              \n",
      "      \n",
      "                \n",
      "      20.      Emotional headlines have an impact regardless of the credibility of the source (hu-berlin.de)\n",
      "        207 points by rustoo 20 hours ago  | hide | 74 comments              \n",
      "      \n",
      "                \n",
      "      21.      Flash Player is about to stop working on Windows 10 (windowslatest.com)\n",
      "        189 points by muhahue 12 hours ago  | hide | 266 comments              \n",
      "      \n",
      "                \n",
      "      22.      Things I Learnt in 2020 (drobinin.com)\n",
      "        183 points by valzevul 15 hours ago  | hide | 42 comments              \n",
      "      \n",
      "                \n",
      "      23.      Tesla Service Centers Are Preventing Delivery Refusals in Weird Ways (insideevs.com)\n",
      "        98 points by rmason 4 hours ago  | hide | 76 comments              \n",
      "      \n",
      "                \n",
      "      24.      Uber will charge significantly more per trip as new Seattle law goes into effect (seattletimes.com)\n",
      "        105 points by donsupreme 10 hours ago  | hide | 192 comments              \n",
      "      \n",
      "                \n",
      "      25.      How Python attributes work (tenthousandmeters.com)\n",
      "        91 points by r4victor 13 hours ago  | hide | 11 comments              \n",
      "      \n",
      "                \n",
      "      26.      Relationship Hero (YC S17) is hiring relationship coaches – fully remote (relationshiphero.com)\n",
      "        12 hours ago | hide      \n",
      "      \n",
      "                \n",
      "      27.      Show HN: Diffgram – Human Supervision of AI Data (diffgram.com)\n",
      "        16 points by anthonysarkis 9 hours ago  | hide | 1 comment              \n",
      "      \n",
      "                \n",
      "      28.      Ask HN: What's a side project you built to make money that hasn't?\n",
      "        336 points by notoriousarun 22 hours ago  | hide | 442 comments              \n",
      "      \n",
      "                \n",
      "      29.      Don't Use Protobuf for Telemetry (richardstartin.github.io)\n",
      "        203 points by simonpure 17 hours ago  | hide | 169 comments              \n",
      "      \n",
      "                \n",
      "      30.      Unmasking Graham Greene (newstatesman.com)\n",
      "        53 points by lermontov 19 hours ago  | hide | 23 comments              \n",
      "      \n",
      "            More\n",
      "  \n",
      "\n",
      "Guidelines\n",
      "        | FAQ\n",
      "        | Lists\n",
      "        | API\n",
      "        | Security\n",
      "        | Legal\n",
      "        | Apply to YC\n",
      "        | ContactSearch:\n",
      "          \n",
      "            \n",
      "      \n",
      "\n"
     ]
    }
   ],
   "source": [
    "from bs4 import BeautifulSoup\n",
    "\n",
    "# Remove HTML tags using Beautiful Soup library\n",
    "soup = BeautifulSoup(r.text, \"html5lib\")\n",
    "print(soup.get_text())"
   ]
  },
  {
   "cell_type": "code",
   "execution_count": 7,
   "metadata": {
    "scrolled": true
   },
   "outputs": [
    {
     "data": {
      "text/plain": [
       "<tr class=\"athing\" id=\"25590079\">\n",
       "      <td align=\"right\" class=\"title\" valign=\"top\"><span class=\"rank\">1.</span></td>      <td class=\"votelinks\" valign=\"top\"><center><a href=\"vote?id=25590079&amp;how=up&amp;goto=news\" id=\"up_25590079\"><div class=\"votearrow\" title=\"upvote\"></div></a></center></td><td class=\"title\"><a class=\"storylink\" href=\"https://madaidans-insecurities.github.io/guides/linux-hardening.html\">Linux Hardening Guide</a><span class=\"sitebit comhead\"> (<a href=\"from?site=madaidans-insecurities.github.io\"><span class=\"sitestr\">madaidans-insecurities.github.io</span></a>)</span></td></tr>"
      ]
     },
     "execution_count": 7,
     "metadata": {},
     "output_type": "execute_result"
    }
   ],
   "source": [
    "# Find all articles\n",
    "summaries = soup.find_all(\"tr\", class_=\"athing\")\n",
    "summaries[0]"
   ]
  },
  {
   "cell_type": "code",
   "execution_count": 8,
   "metadata": {},
   "outputs": [
    {
     "data": {
      "text/plain": [
       "'Linux Hardening Guide'"
      ]
     },
     "execution_count": 8,
     "metadata": {},
     "output_type": "execute_result"
    }
   ],
   "source": [
    "# Extract title\n",
    "summaries[0].find(\"a\", class_=\"storylink\").get_text().strip()"
   ]
  },
  {
   "cell_type": "code",
   "execution_count": 11,
   "metadata": {},
   "outputs": [
    {
     "name": "stdout",
     "output_type": "stream",
     "text": [
      "30 Article summaries found. Sample:\n",
      "Linux Hardening Guide\n"
     ]
    }
   ],
   "source": [
    "# Find all articles, extract titles\n",
    "articles = []\n",
    "summaries = soup.find_all(\"tr\", class_=\"athing\")\n",
    "for summary in summaries:\n",
    "    title = summary.find(\"a\", class_=\"storylink\").get_text().strip()\n",
    "    articles.append((title))\n",
    "\n",
    "print(len(articles), \"Article summaries found. Sample:\")\n",
    "print(articles[0])"
   ]
  },
  {
   "cell_type": "markdown",
   "metadata": {
    "collapsed": true
   },
   "source": [
    "## Normalization"
   ]
  },
  {
   "cell_type": "markdown",
   "metadata": {},
   "source": [
    "### Case Normalization"
   ]
  },
  {
   "cell_type": "code",
   "execution_count": 12,
   "metadata": {},
   "outputs": [
    {
     "name": "stdout",
     "output_type": "stream",
     "text": [
      "The first time you see The Second Renaissance it may look boring. Look at it at least twice and definitely watch part 2. It will change your view of the matrix. Are the human people the ones who started the war ? Is AI a bad thing ?\n"
     ]
    }
   ],
   "source": [
    "# Sample text\n",
    "text = \"The first time you see The Second Renaissance it may look boring. Look at it at least twice and definitely watch part 2. It will change your view of the matrix. Are the human people the ones who started the war ? Is AI a bad thing ?\"\n",
    "print(text)"
   ]
  },
  {
   "cell_type": "code",
   "execution_count": 13,
   "metadata": {},
   "outputs": [
    {
     "name": "stdout",
     "output_type": "stream",
     "text": [
      "the first time you see the second renaissance it may look boring. look at it at least twice and definitely watch part 2. it will change your view of the matrix. are the human people the ones who started the war ? is ai a bad thing ?\n"
     ]
    }
   ],
   "source": [
    "# Convert to lowercase\n",
    "text = text.lower() \n",
    "print(text)"
   ]
  },
  {
   "cell_type": "markdown",
   "metadata": {},
   "source": [
    "### Punctuation Removal"
   ]
  },
  {
   "cell_type": "code",
   "execution_count": 14,
   "metadata": {},
   "outputs": [
    {
     "name": "stdout",
     "output_type": "stream",
     "text": [
      "the first time you see the second renaissance it may look boring  look at it at least twice and definitely watch part 2  it will change your view of the matrix  are the human people the ones who started the war   is ai a bad thing  \n"
     ]
    }
   ],
   "source": [
    "import re\n",
    "\n",
    "# Remove punctuation characters\n",
    "text = re.sub(r\"[^a-zA-Z0-9]\", \" \", text) \n",
    "print(text)"
   ]
  },
  {
   "cell_type": "markdown",
   "metadata": {},
   "source": [
    "## Tokenization"
   ]
  },
  {
   "cell_type": "code",
   "execution_count": null,
   "metadata": {},
   "outputs": [],
   "source": [
    "# Split text into tokens (words)\n",
    "words = text.split()\n",
    "print(words)"
   ]
  },
  {
   "cell_type": "markdown",
   "metadata": {},
   "source": [
    "### NLTK: Natural Language ToolKit"
   ]
  },
  {
   "cell_type": "code",
   "execution_count": 15,
   "metadata": {},
   "outputs": [],
   "source": [
    "import os\n",
    "import nltk\n",
    "nltk.data.path.append(os.path.join(os.getcwd(), \"nltk_data\"))"
   ]
  },
  {
   "cell_type": "code",
   "execution_count": 16,
   "metadata": {},
   "outputs": [
    {
     "name": "stdout",
     "output_type": "stream",
     "text": [
      "Dr. Smith graduated from the University of Washington. He later started an analytics firm called Lux, which catered to enterprise customers.\n"
     ]
    }
   ],
   "source": [
    "# Another sample text\n",
    "text = \"Dr. Smith graduated from the University of Washington. He later started an analytics firm called Lux, which catered to enterprise customers.\"\n",
    "print(text)"
   ]
  },
  {
   "cell_type": "code",
   "execution_count": 17,
   "metadata": {},
   "outputs": [
    {
     "name": "stdout",
     "output_type": "stream",
     "text": [
      "['Dr.', 'Smith', 'graduated', 'from', 'the', 'University', 'of', 'Washington', '.', 'He', 'later', 'started', 'an', 'analytics', 'firm', 'called', 'Lux', ',', 'which', 'catered', 'to', 'enterprise', 'customers', '.']\n"
     ]
    }
   ],
   "source": [
    "from nltk.tokenize import word_tokenize\n",
    "\n",
    "# Split text into words using NLTK\n",
    "words = word_tokenize(text)\n",
    "print(words)"
   ]
  },
  {
   "cell_type": "code",
   "execution_count": 18,
   "metadata": {},
   "outputs": [
    {
     "name": "stdout",
     "output_type": "stream",
     "text": [
      "['Dr. Smith graduated from the University of Washington.', 'He later started an analytics firm called Lux, which catered to enterprise customers.']\n"
     ]
    }
   ],
   "source": [
    "from nltk.tokenize import sent_tokenize\n",
    "\n",
    "# Split text into sentences\n",
    "sentences = sent_tokenize(text)\n",
    "print(sentences)"
   ]
  },
  {
   "cell_type": "code",
   "execution_count": 19,
   "metadata": {},
   "outputs": [
    {
     "name": "stdout",
     "output_type": "stream",
     "text": [
      "['i', 'me', 'my', 'myself', 'we', 'our', 'ours', 'ourselves', 'you', \"you're\", \"you've\", \"you'll\", \"you'd\", 'your', 'yours', 'yourself', 'yourselves', 'he', 'him', 'his', 'himself', 'she', \"she's\", 'her', 'hers', 'herself', 'it', \"it's\", 'its', 'itself', 'they', 'them', 'their', 'theirs', 'themselves', 'what', 'which', 'who', 'whom', 'this', 'that', \"that'll\", 'these', 'those', 'am', 'is', 'are', 'was', 'were', 'be', 'been', 'being', 'have', 'has', 'had', 'having', 'do', 'does', 'did', 'doing', 'a', 'an', 'the', 'and', 'but', 'if', 'or', 'because', 'as', 'until', 'while', 'of', 'at', 'by', 'for', 'with', 'about', 'against', 'between', 'into', 'through', 'during', 'before', 'after', 'above', 'below', 'to', 'from', 'up', 'down', 'in', 'out', 'on', 'off', 'over', 'under', 'again', 'further', 'then', 'once', 'here', 'there', 'when', 'where', 'why', 'how', 'all', 'any', 'both', 'each', 'few', 'more', 'most', 'other', 'some', 'such', 'no', 'nor', 'not', 'only', 'own', 'same', 'so', 'than', 'too', 'very', 's', 't', 'can', 'will', 'just', 'don', \"don't\", 'should', \"should've\", 'now', 'd', 'll', 'm', 'o', 're', 've', 'y', 'ain', 'aren', \"aren't\", 'couldn', \"couldn't\", 'didn', \"didn't\", 'doesn', \"doesn't\", 'hadn', \"hadn't\", 'hasn', \"hasn't\", 'haven', \"haven't\", 'isn', \"isn't\", 'ma', 'mightn', \"mightn't\", 'mustn', \"mustn't\", 'needn', \"needn't\", 'shan', \"shan't\", 'shouldn', \"shouldn't\", 'wasn', \"wasn't\", 'weren', \"weren't\", 'won', \"won't\", 'wouldn', \"wouldn't\"]\n"
     ]
    }
   ],
   "source": [
    "# List stop words\n",
    "from nltk.corpus import stopwords\n",
    "print(stopwords.words(\"english\"))"
   ]
  },
  {
   "cell_type": "code",
   "execution_count": 20,
   "metadata": {},
   "outputs": [
    {
     "name": "stdout",
     "output_type": "stream",
     "text": [
      "['the', 'first', 'time', 'you', 'see', 'the', 'second', 'renaissance', 'it', 'may', 'look', 'boring', 'look', 'at', 'it', 'at', 'least', 'twice', 'and', 'definitely', 'watch', 'part', '2', 'it', 'will', 'change', 'your', 'view', 'of', 'the', 'matrix', 'are', 'the', 'human', 'people', 'the', 'ones', 'who', 'started', 'the', 'war', 'is', 'ai', 'a', 'bad', 'thing']\n"
     ]
    }
   ],
   "source": [
    "# Reset text\n",
    "text = \"The first time you see The Second Renaissance it may look boring. Look at it at least twice and definitely watch part 2. It will change your view of the matrix. Are the human people the ones who started the war ? Is AI a bad thing ?\"\n",
    "\n",
    "# Normalize it\n",
    "text = re.sub(r\"[^a-zA-Z0-9]\", \" \", text.lower())\n",
    "\n",
    "# Tokenize it\n",
    "words = text.split()\n",
    "print(words)"
   ]
  },
  {
   "cell_type": "code",
   "execution_count": 21,
   "metadata": {},
   "outputs": [
    {
     "name": "stdout",
     "output_type": "stream",
     "text": [
      "['first', 'time', 'see', 'second', 'renaissance', 'may', 'look', 'boring', 'look', 'least', 'twice', 'definitely', 'watch', 'part', '2', 'change', 'view', 'matrix', 'human', 'people', 'ones', 'started', 'war', 'ai', 'bad', 'thing']\n"
     ]
    }
   ],
   "source": [
    "# Remove stop words\n",
    "words = [w for w in words if w not in stopwords.words(\"english\")]\n",
    "print(words)"
   ]
  },
  {
   "cell_type": "markdown",
   "metadata": {},
   "source": [
    "### Sentence Parsing"
   ]
  },
  {
   "cell_type": "code",
   "execution_count": 22,
   "metadata": {},
   "outputs": [
    {
     "name": "stdout",
     "output_type": "stream",
     "text": [
      "(S\n",
      "  (NP I)\n",
      "  (VP\n",
      "    (VP (V shot) (NP (Det an) (N elephant)))\n",
      "    (PP (P in) (NP (Det my) (N pajamas)))))\n",
      "(S\n",
      "  (NP I)\n",
      "  (VP\n",
      "    (V shot)\n",
      "    (NP (Det an) (N elephant) (PP (P in) (NP (Det my) (N pajamas))))))\n"
     ]
    }
   ],
   "source": [
    "import nltk\n",
    "\n",
    "# Define a custom grammar\n",
    "my_grammar = nltk.CFG.fromstring(\"\"\"\n",
    "S -> NP VP\n",
    "PP -> P NP\n",
    "NP -> Det N | Det N PP | 'I'\n",
    "VP -> V NP | VP PP\n",
    "Det -> 'an' | 'my'\n",
    "N -> 'elephant' | 'pajamas'\n",
    "V -> 'shot'\n",
    "P -> 'in'\n",
    "\"\"\")\n",
    "parser = nltk.ChartParser(my_grammar)\n",
    "\n",
    "# Parse a sentence\n",
    "sentence = word_tokenize(\"I shot an elephant in my pajamas\")\n",
    "for tree in parser.parse(sentence):\n",
    "    print(tree)"
   ]
  },
  {
   "cell_type": "markdown",
   "metadata": {},
   "source": [
    "## Stemming & Lemmatization\n",
    "\n",
    "### Stemming"
   ]
  },
  {
   "cell_type": "code",
   "execution_count": 23,
   "metadata": {},
   "outputs": [
    {
     "name": "stdout",
     "output_type": "stream",
     "text": [
      "['first', 'time', 'see', 'second', 'renaiss', 'may', 'look', 'bore', 'look', 'least', 'twice', 'definit', 'watch', 'part', '2', 'chang', 'view', 'matrix', 'human', 'peopl', 'one', 'start', 'war', 'ai', 'bad', 'thing']\n"
     ]
    }
   ],
   "source": [
    "from nltk.stem.porter import PorterStemmer\n",
    "\n",
    "# Reduce words to their stems\n",
    "stemmed = [PorterStemmer().stem(w) for w in words]\n",
    "print(stemmed)"
   ]
  },
  {
   "cell_type": "markdown",
   "metadata": {},
   "source": [
    "### Lemmatization"
   ]
  },
  {
   "cell_type": "code",
   "execution_count": 24,
   "metadata": {},
   "outputs": [
    {
     "name": "stdout",
     "output_type": "stream",
     "text": [
      "['first', 'time', 'see', 'second', 'renaissance', 'may', 'look', 'boring', 'look', 'least', 'twice', 'definitely', 'watch', 'part', '2', 'change', 'view', 'matrix', 'human', 'people', 'one', 'started', 'war', 'ai', 'bad', 'thing']\n"
     ]
    }
   ],
   "source": [
    "from nltk.stem.wordnet import WordNetLemmatizer\n",
    "\n",
    "# Reduce words to their root form\n",
    "lemmed = [WordNetLemmatizer().lemmatize(w) for w in words]\n",
    "print(lemmed)"
   ]
  },
  {
   "cell_type": "code",
   "execution_count": 25,
   "metadata": {},
   "outputs": [
    {
     "name": "stdout",
     "output_type": "stream",
     "text": [
      "['first', 'time', 'see', 'second', 'renaissance', 'may', 'look', 'bore', 'look', 'least', 'twice', 'definitely', 'watch', 'part', '2', 'change', 'view', 'matrix', 'human', 'people', 'one', 'start', 'war', 'ai', 'bad', 'thing']\n"
     ]
    }
   ],
   "source": [
    "# Lemmatize verbs by specifying pos\n",
    "lemmed = [WordNetLemmatizer().lemmatize(w, pos='v') for w in lemmed]\n",
    "print(lemmed)"
   ]
  },
  {
   "cell_type": "code",
   "execution_count": null,
   "metadata": {},
   "outputs": [],
   "source": []
  }
 ],
 "metadata": {
  "kernelspec": {
   "display_name": "Python 3",
   "language": "python",
   "name": "python3"
  },
  "language_info": {
   "codemirror_mode": {
    "name": "ipython",
    "version": 3
   },
   "file_extension": ".py",
   "mimetype": "text/x-python",
   "name": "python",
   "nbconvert_exporter": "python",
   "pygments_lexer": "ipython3",
   "version": "3.6.3"
  }
 },
 "nbformat": 4,
 "nbformat_minor": 2
}
